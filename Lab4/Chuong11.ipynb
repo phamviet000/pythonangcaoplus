{
  "nbformat": 4,
  "nbformat_minor": 0,
  "metadata": {
    "colab": {
      "name": "Chuong11.ipynb",
      "provenance": [],
      "collapsed_sections": [],
      "authorship_tag": "ABX9TyOmSt2TT2uvP6g/tormoo4g",
      "include_colab_link": true
    },
    "kernelspec": {
      "name": "python3",
      "display_name": "Python 3"
    },
    "language_info": {
      "name": "python"
    }
  },
  "cells": [
    {
      "cell_type": "markdown",
      "metadata": {
        "id": "view-in-github",
        "colab_type": "text"
      },
      "source": [
        "<a href=\"https://colab.research.google.com/github/phamviet000/pythonangcaoplus/blob/main/Lab4/Chuong11.ipynb\" target=\"_parent\"><img src=\"https://colab.research.google.com/assets/colab-badge.svg\" alt=\"Open In Colab\"/></a>"
      ]
    },
    {
      "cell_type": "code",
      "metadata": {
        "colab": {
          "base_uri": "https://localhost:8080/"
        },
        "id": "K2uiKPnqZxv8",
        "outputId": "8351b9ea-6160-4c51-e2d7-dc9153e888cb"
      },
      "source": [
        "vowels = {'a', 'e', 'a', 'a', 'i', 'o', 'u', 'u'}\n",
        "print(vowels)"
      ],
      "execution_count": 2,
      "outputs": [
        {
          "output_type": "stream",
          "name": "stdout",
          "text": [
            "{'i', 'a', 'u', 'o', 'e'}\n"
          ]
        }
      ]
    },
    {
      "cell_type": "markdown",
      "metadata": {
        "id": "ifSDBB9phEH1"
      },
      "source": [
        "Cau 1"
      ]
    },
    {
      "cell_type": "code",
      "metadata": {
        "id": "4VLUGpFFgi7i"
      },
      "source": [
        "def find_dups(L):\n",
        "  elem_set = set()\n",
        "  dups_set = set()\n",
        "  for entry in L:\n",
        "    len_initial = len(elem_set)\n",
        "    elem_set.add(entry)\n",
        "    len_after = len(elem_set)\n",
        "    if len_initial == len_after:\n",
        "      dups_set.add(entry)\n",
        "  return(dups_set)"
      ],
      "execution_count": 4,
      "outputs": []
    },
    {
      "cell_type": "code",
      "metadata": {
        "colab": {
          "base_uri": "https://localhost:8080/"
        },
        "id": "NSPQNNtmgxcM",
        "outputId": "a742acee-3022-4ffd-d7b5-765ef9f405f3"
      },
      "source": [
        "find_dups([4,5,6,1,8,2,4,89,1,6,4,5,1,8,2])"
      ],
      "execution_count": 5,
      "outputs": [
        {
          "output_type": "execute_result",
          "data": {
            "text/plain": [
              "{1, 2, 4, 5, 6, 8}"
            ]
          },
          "metadata": {},
          "execution_count": 5
        }
      ]
    },
    {
      "cell_type": "markdown",
      "metadata": {
        "id": "-8GNIkO_hS2F"
      },
      "source": [
        "Cau 2"
      ]
    },
    {
      "cell_type": "code",
      "metadata": {
        "id": "kYyzzhiJhTjk"
      },
      "source": [
        "def mating_pairs(males, females):\n",
        " \"\"\" (set, set) -> set of tuple\n",
        " Return a set of tuples where each tuple contains a male from males \n",
        "and a\n",
        " female from females.\n",
        " >>> mating_pairs({'Anne', 'Beatrice', 'Cari'}, {'Ali', 'Bob', \n",
        "'Chen'})\n",
        " {('Cari', 'Chen'), ('Beatrice', 'Bob'), ('Anne', 'Ali')}\n",
        " \"\"\"\n",
        " pairs = set()\n",
        " num_gerbils = len(males)\n",
        " for i in range(num_gerbils):\n",
        "  male = males.pop()\n",
        "  female = females.pop()\n",
        "  pairs.add((male, female))\n",
        " return pairs"
      ],
      "execution_count": 12,
      "outputs": []
    },
    {
      "cell_type": "code",
      "metadata": {
        "colab": {
          "base_uri": "https://localhost:8080/"
        },
        "id": "138-sJynvgOE",
        "outputId": "67cfc465-9297-434f-f8f9-e5ad83da67ca"
      },
      "source": [
        " mating_pairs({'Anne', 'Beatrice', 'Cari'}, {'Ali', 'Bob', 'Chen'})"
      ],
      "execution_count": 13,
      "outputs": [
        {
          "output_type": "execute_result",
          "data": {
            "text/plain": [
              "{('Anne', 'Bob'), ('Beatrice', 'Ali'), ('Cari', 'Chen')}"
            ]
          },
          "metadata": {},
          "execution_count": 13
        }
      ]
    },
    {
      "cell_type": "markdown",
      "metadata": {
        "id": "EyiMMMRVwoKG"
      },
      "source": [
        "Cau 3:\n"
      ]
    },
    {
      "cell_type": "code",
      "metadata": {
        "id": "QRkmHMYUwpl0"
      },
      "source": [
        "males = {'Anna','Jane','Sophia'}\n",
        "females = {'Bob','David','Tom'}\n",
        "def mating_couple(males,females):\n",
        "  couple = set()\n",
        "  for i in range(len(males)):\n",
        "    male = males.pop()\n",
        "    female = females.pop()\n",
        "    couple.add((male, female))\n",
        "  return couple"
      ],
      "execution_count": 16,
      "outputs": []
    },
    {
      "cell_type": "code",
      "metadata": {
        "colab": {
          "base_uri": "https://localhost:8080/"
        },
        "id": "htc0_tQZxser",
        "outputId": "c3c28f84-8aaa-48ad-f08b-12d5be57965b"
      },
      "source": [
        "mating_couple(males,females)"
      ],
      "execution_count": 17,
      "outputs": [
        {
          "output_type": "execute_result",
          "data": {
            "text/plain": [
              "{('Anna', 'Bob'), ('Jane', 'David'), ('Sophia', 'Tom')}"
            ]
          },
          "metadata": {},
          "execution_count": 17
        }
      ]
    },
    {
      "cell_type": "markdown",
      "metadata": {
        "id": "MBHMqkrBzbnz"
      },
      "source": [
        "Cau 4: Cần thầy hướng dẫn sử dụng thêm file PDB\n",
        "\n"
      ]
    },
    {
      "cell_type": "markdown",
      "metadata": {
        "id": "fuAMlUtjzhGi"
      },
      "source": [
        "Câu 5:"
      ]
    },
    {
      "cell_type": "code",
      "metadata": {
        "id": "MDgJynHR166a"
      },
      "source": [
        "def count_values(dic):\n",
        "  tontai = []\n",
        "  for key, value in dic.items():\n",
        "    tontai.append(value)\n",
        "  for key, value in dic.items():\n",
        "    count = 0\n",
        "    for i in tontai:\n",
        "      if i == value:\n",
        "        count = count + 1\n",
        "    if count == 1:\n",
        "      print(value)\n",
        "  \n",
        "  \n"
      ],
      "execution_count": 31,
      "outputs": []
    },
    {
      "cell_type": "code",
      "metadata": {
        "colab": {
          "base_uri": "https://localhost:8080/"
        },
        "id": "OIGqEYD64G0A",
        "outputId": "f4dfd380-e46f-4e43-92e5-98d85082b220"
      },
      "source": [
        "dic = {'red': 1, 'green': 1, 'blue': 2}\n",
        "count_values(dic)"
      ],
      "execution_count": 54,
      "outputs": [
        {
          "output_type": "stream",
          "name": "stdout",
          "text": [
            "2\n"
          ]
        }
      ]
    },
    {
      "cell_type": "markdown",
      "metadata": {
        "id": "k8ns1ZS88u-3"
      },
      "source": [
        "Cau 6:\n"
      ]
    },
    {
      "cell_type": "code",
      "metadata": {
        "id": "YREK2-hq9QEI"
      },
      "source": [
        "def least(dic):\n",
        "  min = 999999999999999999999999999\n",
        "  for key, value in dic.items():\n",
        "    if value < min:\n",
        "      min = value\n",
        "      str1 = key\n",
        "    else:\n",
        "      continue\n",
        "  for key, value in dic.items():\n",
        "    if key == str1:\n",
        "      print(key)"
      ],
      "execution_count": 50,
      "outputs": []
    },
    {
      "cell_type": "code",
      "metadata": {
        "colab": {
          "base_uri": "https://localhost:8080/"
        },
        "id": "XkmmyAAn-G_W",
        "outputId": "54b8d18f-4980-4e8d-eebb-10df5bbe3c2a"
      },
      "source": [
        " nguyentu = {'neutron': 0.55, 'proton': 0.21, 'meson': 0.03, 'muon': 0.07, 'neutrino': 0.80}\n",
        " least(nguyentu)"
      ],
      "execution_count": 53,
      "outputs": [
        {
          "output_type": "stream",
          "name": "stdout",
          "text": [
            "meson\n"
          ]
        }
      ]
    },
    {
      "cell_type": "markdown",
      "metadata": {
        "id": "dL2TygYV_vFW"
      },
      "source": [
        "Cau 7:"
      ]
    },
    {
      "cell_type": "code",
      "metadata": {
        "id": "5flrvXO1_wHk"
      },
      "source": [
        "def count(dic):\n",
        "  count = []\n",
        "  for key, value in dic.items():\n",
        "    if value in count:\n",
        "      print(value)\n",
        "    else:\n",
        "      count.append(value)"
      ],
      "execution_count": 55,
      "outputs": []
    },
    {
      "cell_type": "code",
      "metadata": {
        "colab": {
          "base_uri": "https://localhost:8080/"
        },
        "id": "zlqUmkDsAq-r",
        "outputId": "80fb7b92-d054-4e1e-d27d-e81363aa6a43"
      },
      "source": [
        "dic = {'red': 1, 'green': 1, 'blue': 2}\n",
        "count(dic)"
      ],
      "execution_count": 58,
      "outputs": [
        {
          "output_type": "stream",
          "name": "stdout",
          "text": [
            "1\n"
          ]
        }
      ]
    },
    {
      "cell_type": "markdown",
      "metadata": {
        "id": "xwd7xOWnBUO2"
      },
      "source": [
        "Cau 8:"
      ]
    },
    {
      "cell_type": "code",
      "metadata": {
        "id": "C3nT_i0YBVbF"
      },
      "source": [
        "def is_balanced(dic):\n",
        "  balanced=0\n",
        "  for key, value in dic.items():\n",
        "    balanced += value\n",
        "  if balanced == 1:\n",
        "    return True\n",
        "  else:\n",
        "    return False"
      ],
      "execution_count": 73,
      "outputs": []
    },
    {
      "cell_type": "code",
      "metadata": {
        "colab": {
          "base_uri": "https://localhost:8080/"
        },
        "id": "gYPDF5flBuXl",
        "outputId": "e7e5fda3-86b6-4395-8d18-4da502791e7a"
      },
      "source": [
        "color = {'R':0.3,'G':0.3,'B':0.2}\n",
        "is_balanced(color)"
      ],
      "execution_count": 74,
      "outputs": [
        {
          "output_type": "execute_result",
          "data": {
            "text/plain": [
              "False"
            ]
          },
          "metadata": {},
          "execution_count": 74
        }
      ]
    },
    {
      "cell_type": "markdown",
      "metadata": {
        "id": "2uYl6TKuCkiU"
      },
      "source": [
        "Cau 9:"
      ]
    },
    {
      "cell_type": "code",
      "metadata": {
        "id": "sADrf_63Cl8M"
      },
      "source": [
        "def dict_intersect(dic1,dic2):\n",
        "  dic3 = {}\n",
        "  for key, value in dic1.items():\n",
        "    for key1, value1 in dic2.items():\n",
        "      if ((key == key1) and (value ==value1)):\n",
        "        dic3[key] = value\n",
        "  return dic3\n"
      ],
      "execution_count": 78,
      "outputs": []
    },
    {
      "cell_type": "code",
      "metadata": {
        "colab": {
          "base_uri": "https://localhost:8080/"
        },
        "id": "qO_2JDkTGOfD",
        "outputId": "10d0aaa9-15ef-4d93-9cc4-a7603a256ebb"
      },
      "source": [
        "dic1 = {'red': 1, 'green': 1, 'blue': 2}\n",
        "dic2 = {'red': 1, 'green': 5, 'blue': 2, 'black': 4}\n",
        "dict_intersect(dic1,dic2)"
      ],
      "execution_count": 79,
      "outputs": [
        {
          "output_type": "execute_result",
          "data": {
            "text/plain": [
              "{'blue': 2, 'red': 1}"
            ]
          },
          "metadata": {},
          "execution_count": 79
        }
      ]
    },
    {
      "cell_type": "markdown",
      "metadata": {
        "id": "_ye5M1iqtI7b"
      },
      "source": [
        "Cau 10\n"
      ]
    },
    {
      "cell_type": "code",
      "metadata": {
        "colab": {
          "base_uri": "https://localhost:8080/"
        },
        "id": "8K3VxMRFtJ2e",
        "outputId": "4133da6d-baf7-4ae6-c859-26b03ffbbf6b"
      },
      "source": [
        "dic={'jgoodall' : {'surname' : 'Goodall',\n",
        "'forename' : 'Jane',\n",
        "'born' : 1934,\n",
        "'died' : None,\n",
        "'notes' : 'primate researcher',\n",
        "'author' : ['In the Shadow of Man',\n",
        "'The Chimpanzees of Gombe']},\n",
        "'rfranklin' : {'surname' : 'Franklin',\n",
        "'forename' : 'Rosalind',\n",
        "'born' : 1920,\n",
        "'died' : 1957,\n",
        "'notes' : 'contributed to discovery of DNA'},\n",
        "'rcarson' : {'surname' : 'Carson',\n",
        "'forename' : 'Rachel',\n",
        "'born' : 1907,\n",
        "'died' : 1964,\n",
        "'notes' : 'raised awareness of effects of DDT',\n",
        "'author' : ['Silent Spring']}\n",
        "}\n",
        "def db_headings(str1):\n",
        "  str1 = input('Nhập vào tên nhà khoa học muốn tìm: ')\n",
        "  idonnow = set()\n",
        "  for key,value in dic.items():\n",
        "    if (key == str1):\n",
        "      dic_temp = value\n",
        "  for key1, value1 in dic_temp.items():\n",
        "    idonnow.add(key1)\n",
        "  return idonnow\n",
        "db_headings(name)"
      ],
      "execution_count": 6,
      "outputs": [
        {
          "name": "stdout",
          "output_type": "stream",
          "text": [
            "Nhập vào tên nhà khoa học muốn tìm: jgoodall\n"
          ]
        },
        {
          "output_type": "execute_result",
          "data": {
            "text/plain": [
              "{'author', 'born', 'died', 'forename', 'notes', 'surname'}"
            ]
          },
          "metadata": {},
          "execution_count": 6
        }
      ]
    },
    {
      "cell_type": "markdown",
      "metadata": {
        "id": "g7Vciaop6aSo"
      },
      "source": [
        "Cau 11:"
      ]
    },
    {
      "cell_type": "code",
      "metadata": {
        "colab": {
          "base_uri": "https://localhost:8080/"
        },
        "id": "NJ5sq4_p6ZEA",
        "outputId": "67c7227c-d3b0-4e2c-8e8d-1ce2b271b561"
      },
      "source": [
        "\n",
        "def test(dic):\n",
        "  set1 = db_headings(name)\n",
        "  set2 = db_headings(name)\n",
        "  if (set1 == set2):\n",
        "    return True\n",
        "  else:\n",
        "    return False\n",
        "test(dic)"
      ],
      "execution_count": 7,
      "outputs": [
        {
          "name": "stdout",
          "output_type": "stream",
          "text": [
            "Nhập vào tên nhà khoa học muốn tìm: jgoodall\n",
            "Nhập vào tên nhà khoa học muốn tìm: rfranklin\n"
          ]
        },
        {
          "output_type": "execute_result",
          "data": {
            "text/plain": [
              "False"
            ]
          },
          "metadata": {},
          "execution_count": 7
        }
      ]
    }
  ]
}