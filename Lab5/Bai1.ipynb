{
  "nbformat": 4,
  "nbformat_minor": 0,
  "metadata": {
    "colab": {
      "name": "Untitled1.ipynb",
      "provenance": [],
      "collapsed_sections": [],
      "authorship_tag": "ABX9TyMKBtejg/imh51Xs5JlpCma",
      "include_colab_link": true
    },
    "kernelspec": {
      "name": "python3",
      "display_name": "Python 3"
    },
    "language_info": {
      "name": "python"
    }
  },
  "cells": [
    {
      "cell_type": "markdown",
      "metadata": {
        "id": "view-in-github",
        "colab_type": "text"
      },
      "source": [
        "<a href=\"https://colab.research.google.com/github/phamviet000/pythonangcaoplus/blob/main/Lab5/Bai1.ipynb\" target=\"_parent\"><img src=\"https://colab.research.google.com/assets/colab-badge.svg\" alt=\"Open In Colab\"/></a>"
      ]
    },
    {
      "cell_type": "code",
      "metadata": {
        "id": "twbpgElYciv-"
      },
      "source": [
        "class Country:\n",
        "  def __init__(self, name, population, area):\n",
        "    self.name = name\n",
        "    self.population = population \n",
        "    self.area = area\n",
        "  def __str__(self):\n",
        "    return '{} has a population of {} and is {} square km'.format(self.name,self.population,self.area)\n",
        "  def __repr__(self):\n",
        "    return (\"Country('{0}',{1},{2})\".format(self.name,self.population,self.area))\n",
        "  def is_larger(self, objCountry):\n",
        "    if self.area >= objCountry.area:\n",
        "      return True\n",
        "    else:\n",
        "      return False\n",
        "  def population_density(self):\n",
        "    return self.population/self.area\n"
      ],
      "execution_count": null,
      "outputs": []
    },
    {
      "cell_type": "code",
      "metadata": {
        "colab": {
          "base_uri": "https://localhost:8080/"
        },
        "id": "ykY0nmU2joEN",
        "outputId": "4ccc78e3-4722-4506-970e-0493f372f7b1"
      },
      "source": [
        " canada = Country('Canada', 34482779, 9984670)\n",
        " canada.population_density()"
      ],
      "execution_count": null,
      "outputs": [
        {
          "output_type": "execute_result",
          "data": {
            "text/plain": [
              "3.4535722262227995"
            ]
          },
          "metadata": {},
          "execution_count": 35
        }
      ]
    },
    {
      "cell_type": "code",
      "metadata": {
        "id": "ZzwT93wmqWiz"
      },
      "source": [
        "usa = Country('United States of America', 313914040, 9826675)"
      ],
      "execution_count": null,
      "outputs": []
    },
    {
      "cell_type": "code",
      "metadata": {
        "colab": {
          "base_uri": "https://localhost:8080/"
        },
        "id": "tql0e1Dtqb4Z",
        "outputId": "38940029-f6f8-4c70-f2bc-afd30b41717b"
      },
      "source": [
        " canada.is_larger(usa)\n"
      ],
      "execution_count": null,
      "outputs": [
        {
          "output_type": "execute_result",
          "data": {
            "text/plain": [
              "True"
            ]
          },
          "metadata": {},
          "execution_count": 39
        }
      ]
    },
    {
      "cell_type": "code",
      "metadata": {
        "colab": {
          "base_uri": "https://localhost:8080/"
        },
        "id": "JozpgQoLlLnN",
        "outputId": "e1448e82-739d-47df-fec8-f14e5c86c4d1"
      },
      "source": [
        "print(canada)\n",
        "canada"
      ],
      "execution_count": null,
      "outputs": [
        {
          "output_type": "stream",
          "name": "stdout",
          "text": [
            "Canada has a population of 34482779 and is 9984670 square km\n"
          ]
        },
        {
          "output_type": "execute_result",
          "data": {
            "text/plain": [
              "Country('Canada',34482779,9984670)"
            ]
          },
          "metadata": {},
          "execution_count": 37
        }
      ]
    }
  ]
}