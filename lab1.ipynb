{
  "nbformat": 4,
  "nbformat_minor": 0,
  "metadata": {
    "colab": {
      "name": "lab1.ipynb",
      "provenance": [],
      "authorship_tag": "ABX9TyPruKByDNq3kMMldu9e+7KY",
      "include_colab_link": true
    },
    "kernelspec": {
      "name": "python3",
      "display_name": "Python 3"
    },
    "language_info": {
      "name": "python"
    }
  },
  "cells": [
    {
      "cell_type": "markdown",
      "metadata": {
        "id": "view-in-github",
        "colab_type": "text"
      },
      "source": [
        "<a href=\"https://colab.research.google.com/github/phamviet000/pythonangcaoplus/blob/main/lab1.ipynb\" target=\"_parent\"><img src=\"https://colab.research.google.com/assets/colab-badge.svg\" alt=\"Open In Colab\"/></a>"
      ]
    },
    {
      "cell_type": "code",
      "metadata": {
        "id": "ttYkKWg3DMEr"
      },
      "source": [
        "print(\"hello\")"
      ],
      "execution_count": null,
      "outputs": []
    },
    {
      "cell_type": "markdown",
      "metadata": {
        "id": "6RpX7eWlNuR5"
      },
      "source": [
        "Bài 1\n"
      ]
    },
    {
      "cell_type": "code",
      "metadata": {
        "id": "T7ItfdWCN7Nw",
        "colab": {
          "base_uri": "https://localhost:8080/"
        },
        "outputId": "bd90f5f7-0ec2-4b1c-bcc0-afe939d25e9e"
      },
      "source": [
        "min(2, 3, 4)"
      ],
      "execution_count": null,
      "outputs": [
        {
          "output_type": "execute_result",
          "data": {
            "text/plain": [
              "2"
            ]
          },
          "metadata": {},
          "execution_count": 4
        }
      ]
    },
    {
      "cell_type": "code",
      "metadata": {
        "id": "rdkn5FAZN7Qw",
        "colab": {
          "base_uri": "https://localhost:8080/"
        },
        "outputId": "1dd09532-f276-4820-ced0-31f3b7e504fe"
      },
      "source": [
        "max(2, -3, 4, 7, -5)"
      ],
      "execution_count": null,
      "outputs": [
        {
          "output_type": "execute_result",
          "data": {
            "text/plain": [
              "7"
            ]
          },
          "metadata": {},
          "execution_count": 5
        }
      ]
    },
    {
      "cell_type": "code",
      "metadata": {
        "id": "hNJlXNtvN7VS",
        "colab": {
          "base_uri": "https://localhost:8080/"
        },
        "outputId": "5b84635f-e492-451e-9dff-639901f2a650"
      },
      "source": [
        "max(2, -3, min(4, 7), -5)\n"
      ],
      "execution_count": null,
      "outputs": [
        {
          "output_type": "execute_result",
          "data": {
            "text/plain": [
              "4"
            ]
          },
          "metadata": {},
          "execution_count": 6
        }
      ]
    },
    {
      "cell_type": "markdown",
      "metadata": {
        "id": "SHHQ2mOvR0dL"
      },
      "source": [
        "Bài 2\n"
      ]
    },
    {
      "cell_type": "code",
      "metadata": {
        "colab": {
          "base_uri": "https://localhost:8080/"
        },
        "id": "k4ZKT12tR3HJ",
        "outputId": "c4a70c65-1c6f-49ec-ccfe-e33bc3486ea4"
      },
      "source": [
        "min(max(3, 4), abs(-5))"
      ],
      "execution_count": 7,
      "outputs": [
        {
          "data": {
            "text/plain": [
              "4"
            ]
          },
          "execution_count": null,
          "metadata": {},
          "output_type": "execute_result"
        }
      ]
    },
    {
      "cell_type": "markdown",
      "metadata": {
        "id": "WSPxSu5pSjrL"
      },
      "source": [
        "đầu tiên lệnh lấy giá trị tuyệt đối của 5, sau đó lấy số lớn nhất là 4 và lấy nhỏ nhất là 4"
      ]
    },
    {
      "cell_type": "code",
      "metadata": {
        "colab": {
          "base_uri": "https://localhost:8080/"
        },
        "id": "5rqcptRBS0Vw",
        "outputId": "dd782bc6-b406-4dde-cffa-5e75b535f4bf"
      },
      "source": [
        "abs(min(4, 6, max(2, 8)))"
      ],
      "execution_count": 8,
      "outputs": [
        {
          "output_type": "execute_result",
          "data": {
            "text/plain": [
              "4"
            ]
          },
          "metadata": {},
          "execution_count": 8
        }
      ]
    },
    {
      "cell_type": "markdown",
      "metadata": {
        "id": "janI_FR9TAA_"
      },
      "source": [
        "lấy số lớn nhất 8 sau đó lấy nhỏ nhất 4 và lấy trị tuyệt đối của 4"
      ]
    },
    {
      "cell_type": "code",
      "metadata": {
        "colab": {
          "base_uri": "https://localhost:8080/"
        },
        "id": "cRr3jcaITGpB",
        "outputId": "9a9c9fb9-603b-405d-800d-207334cf7936"
      },
      "source": [
        "round(max(5.572, 3.258), abs(-2))\n"
      ],
      "execution_count": 9,
      "outputs": [
        {
          "output_type": "execute_result",
          "data": {
            "text/plain": [
              "5.57"
            ]
          },
          "metadata": {},
          "execution_count": 9
        }
      ]
    },
    {
      "cell_type": "markdown",
      "metadata": {
        "id": "i5SCSoJjTOSo"
      },
      "source": [
        "lấy giá trị tuyệt đối 2 rồi lấy số lớn nhất 5.572 và lấy 2 giá trị thập phân"
      ]
    },
    {
      "cell_type": "markdown",
      "metadata": {
        "id": "R2rrKFG1UI9o"
      },
      "source": [
        "Bài 3"
      ]
    },
    {
      "cell_type": "code",
      "metadata": {
        "id": "mHD14bFvTjHQ"
      },
      "source": [
        "def triple(n) :\n",
        "    return n * 3\n"
      ],
      "execution_count": 11,
      "outputs": []
    },
    {
      "cell_type": "code",
      "metadata": {
        "colab": {
          "base_uri": "https://localhost:8080/"
        },
        "id": "eWXuSR6NUDFo",
        "outputId": "a4dcc829-5be2-4272-b405-92f575c088a4"
      },
      "source": [
        "triple(5)"
      ],
      "execution_count": 12,
      "outputs": [
        {
          "output_type": "execute_result",
          "data": {
            "text/plain": [
              "15"
            ]
          },
          "metadata": {},
          "execution_count": 12
        }
      ]
    },
    {
      "cell_type": "markdown",
      "metadata": {
        "id": "OpeWB2j6VTSw"
      },
      "source": [
        "Bài 4\n"
      ]
    },
    {
      "cell_type": "code",
      "metadata": {
        "id": "eq2zM0JOVUgZ"
      },
      "source": [
        "def phetru(a,b):\n",
        "  if a > b:\n",
        "    abs = a - b \n",
        "    return abs\n",
        "  else:\n",
        "    return print(\"nhap sai roi\")"
      ],
      "execution_count": 13,
      "outputs": []
    },
    {
      "cell_type": "code",
      "metadata": {
        "colab": {
          "base_uri": "https://localhost:8080/"
        },
        "id": "ue1XJOZVVpWB",
        "outputId": "4288834d-ba2a-4955-c334-f9ce538cc1c7"
      },
      "source": [
        "phetru(5,2)"
      ],
      "execution_count": 17,
      "outputs": [
        {
          "output_type": "execute_result",
          "data": {
            "text/plain": [
              "3"
            ]
          },
          "metadata": {},
          "execution_count": 17
        }
      ]
    },
    {
      "cell_type": "markdown",
      "metadata": {
        "id": "E2Oy12zLWLgY"
      },
      "source": [
        "Bài 5\n"
      ]
    },
    {
      "cell_type": "code",
      "metadata": {
        "id": "kJh4RfiMWMpA"
      },
      "source": [
        "def change(km):\n",
        "  return km / 1.6"
      ],
      "execution_count": 18,
      "outputs": []
    },
    {
      "cell_type": "code",
      "metadata": {
        "colab": {
          "base_uri": "https://localhost:8080/"
        },
        "id": "2eLci8r0WxTr",
        "outputId": "51dfa320-1011-47a6-dddb-f35b71c66cbf"
      },
      "source": [
        "change(10)"
      ],
      "execution_count": 19,
      "outputs": [
        {
          "output_type": "execute_result",
          "data": {
            "text/plain": [
              "6.25"
            ]
          },
          "metadata": {},
          "execution_count": 19
        }
      ]
    },
    {
      "cell_type": "markdown",
      "metadata": {
        "id": "zYLGAFWeYhTa"
      },
      "source": [
        "Bài 6"
      ]
    },
    {
      "cell_type": "code",
      "metadata": {
        "id": "vs7VeZvGW62Z"
      },
      "source": [
        "def avg(a, b, c):\n",
        "  return (a + b + c)/3"
      ],
      "execution_count": 20,
      "outputs": []
    },
    {
      "cell_type": "code",
      "metadata": {
        "colab": {
          "base_uri": "https://localhost:8080/"
        },
        "id": "Raz2GI03XNlQ",
        "outputId": "ed621efa-c469-4749-aae0-caf3153c127b"
      },
      "source": [
        "avg(5, 6, 10)"
      ],
      "execution_count": 21,
      "outputs": [
        {
          "output_type": "execute_result",
          "data": {
            "text/plain": [
              "7.0"
            ]
          },
          "metadata": {},
          "execution_count": 21
        }
      ]
    },
    {
      "cell_type": "markdown",
      "metadata": {
        "id": "4dj1F_NCYnNI"
      },
      "source": [
        "Bài 7"
      ]
    },
    {
      "cell_type": "code",
      "metadata": {
        "id": "vqEZfStbXsCA"
      },
      "source": [
        "def max3 (a, b, c, d):\n",
        "  total = a + b + c + d\n",
        "  min1 = min(a,b,c,d)\n",
        "  total = total - min1\n",
        "  total = total / 3\n",
        "  return int(total)"
      ],
      "execution_count": 26,
      "outputs": []
    },
    {
      "cell_type": "code",
      "metadata": {
        "colab": {
          "base_uri": "https://localhost:8080/"
        },
        "id": "-XhMUcVYYNEx",
        "outputId": "5b62ce3d-5655-46d3-d298-2074e59ae04b"
      },
      "source": [
        "max3 (1,2,3,4)"
      ],
      "execution_count": 27,
      "outputs": [
        {
          "output_type": "execute_result",
          "data": {
            "text/plain": [
              "3"
            ]
          },
          "metadata": {},
          "execution_count": 27
        }
      ]
    },
    {
      "cell_type": "markdown",
      "metadata": {
        "id": "s1ilUNdMYkLL"
      },
      "source": [
        "Bài 8\n",
        "def weeks_elapsed(day1, day2):\n",
        "\"\"\" (int, int) -> int\n",
        "day1 and day2 are days in the same year. Return the number of full weeks\n",
        "that have elapsed between the two days.\n",
        ">>> weeks_elapsed(3, 20)\n",
        "2\n",
        ">>> weeks_elapsed(20, 3)\n",
        "2\n",
        ">>> weeks_elapsed(8, 5)\n",
        ">>> weeks_elapsed(40, 61)\n",
        "\"\"\"\n"
      ]
    },
    {
      "cell_type": "code",
      "metadata": {
        "id": "XqOcLQUgYyTJ"
      },
      "source": [
        "def week_space(a,b):\n",
        "  c = b- a\n",
        "  d = c // 7\n",
        "  return d"
      ],
      "execution_count": 28,
      "outputs": []
    },
    {
      "cell_type": "code",
      "metadata": {
        "colab": {
          "base_uri": "https://localhost:8080/"
        },
        "id": "GzZVi4nbbLzD",
        "outputId": "4733a276-70ea-4124-a428-81df912c521d"
      },
      "source": [
        "week_space(10,30)"
      ],
      "execution_count": 29,
      "outputs": [
        {
          "output_type": "execute_result",
          "data": {
            "text/plain": [
              "2"
            ]
          },
          "metadata": {},
          "execution_count": 29
        }
      ]
    },
    {
      "cell_type": "markdown",
      "metadata": {
        "id": "fUhDtnlIdnAg"
      },
      "source": [
        "Bài 9 , 10"
      ]
    },
    {
      "cell_type": "code",
      "metadata": {
        "id": "yayEjwKEdmYc"
      },
      "source": [
        "def square(num):\n",
        "  number = num ** 2\n",
        "  return number"
      ],
      "execution_count": 33,
      "outputs": []
    },
    {
      "cell_type": "code",
      "metadata": {
        "id": "7TgmwTyRfQVZ",
        "outputId": "8596b51a-5dbc-4334-a49b-52aa32eb02f5",
        "colab": {
          "base_uri": "https://localhost:8080/"
        }
      },
      "source": [
        "square(5)"
      ],
      "execution_count": 34,
      "outputs": [
        {
          "output_type": "execute_result",
          "data": {
            "text/plain": [
              "25"
            ]
          },
          "metadata": {},
          "execution_count": 34
        }
      ]
    },
    {
      "cell_type": "markdown",
      "metadata": {
        "id": "fybadQ0odnFo"
      },
      "source": [
        "Paramater : num\n",
        "Argument : 3\n",
        "Function name : square\n",
        "Function call : square(3)"
      ]
    },
    {
      "cell_type": "markdown",
      "metadata": {
        "id": "nN-XDFIUfjuY"
      },
      "source": [
        "Chương 6"
      ]
    },
    {
      "cell_type": "markdown",
      "metadata": {
        "id": "oRriKnTCfmeH"
      },
      "source": [
        "Bài 1"
      ]
    },
    {
      "cell_type": "code",
      "metadata": {
        "id": "HlKmFui6fiO4"
      },
      "source": [
        ""
      ],
      "execution_count": null,
      "outputs": []
    }
  ]
}