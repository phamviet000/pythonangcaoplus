{
  "nbformat": 4,
  "nbformat_minor": 0,
  "metadata": {
    "colab": {
      "name": "lab1.ipynb",
      "provenance": [],
      "authorship_tag": "ABX9TyNivQog5YYvant2yzWAb7cj",
      "include_colab_link": true
    },
    "kernelspec": {
      "name": "python3",
      "display_name": "Python 3"
    },
    "language_info": {
      "name": "python"
    }
  },
  "cells": [
    {
      "cell_type": "markdown",
      "metadata": {
        "id": "view-in-github",
        "colab_type": "text"
      },
      "source": [
        "<a href=\"https://colab.research.google.com/github/phamviet000/pythonangcaoplus/blob/main/lab1.ipynb\" target=\"_parent\"><img src=\"https://colab.research.google.com/assets/colab-badge.svg\" alt=\"Open In Colab\"/></a>"
      ]
    },
    {
      "cell_type": "code",
      "metadata": {
        "id": "ttYkKWg3DMEr"
      },
      "source": [
        "print(\"hello\")"
      ],
      "execution_count": null,
      "outputs": []
    },
    {
      "cell_type": "markdown",
      "metadata": {
        "id": "6RpX7eWlNuR5"
      },
      "source": [
        "Bài 1\n"
      ]
    },
    {
      "cell_type": "code",
      "metadata": {
        "id": "T7ItfdWCN7Nw",
        "outputId": "bd90f5f7-0ec2-4b1c-bcc0-afe939d25e9e",
        "colab": {
          "base_uri": "https://localhost:8080/"
        }
      },
      "source": [
        "min(2, 3, 4)"
      ],
      "execution_count": 4,
      "outputs": [
        {
          "output_type": "execute_result",
          "data": {
            "text/plain": [
              "2"
            ]
          },
          "metadata": {},
          "execution_count": 4
        }
      ]
    },
    {
      "cell_type": "code",
      "metadata": {
        "id": "rdkn5FAZN7Qw",
        "outputId": "1dd09532-f276-4820-ced0-31f3b7e504fe",
        "colab": {
          "base_uri": "https://localhost:8080/"
        }
      },
      "source": [
        "max(2, -3, 4, 7, -5)"
      ],
      "execution_count": 5,
      "outputs": [
        {
          "output_type": "execute_result",
          "data": {
            "text/plain": [
              "7"
            ]
          },
          "metadata": {},
          "execution_count": 5
        }
      ]
    },
    {
      "cell_type": "code",
      "metadata": {
        "id": "hNJlXNtvN7VS",
        "outputId": "5b84635f-e492-451e-9dff-639901f2a650",
        "colab": {
          "base_uri": "https://localhost:8080/"
        }
      },
      "source": [
        "max(2, -3, min(4, 7), -5)\n"
      ],
      "execution_count": 6,
      "outputs": [
        {
          "output_type": "execute_result",
          "data": {
            "text/plain": [
              "4"
            ]
          },
          "metadata": {},
          "execution_count": 6
        }
      ]
    }
  ]
}