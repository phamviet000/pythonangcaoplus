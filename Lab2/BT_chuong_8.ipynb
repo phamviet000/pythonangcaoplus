{
  "nbformat": 4,
  "nbformat_minor": 0,
  "metadata": {
    "colab": {
      "name": "BT chuong 8.ipynb",
      "provenance": [],
      "collapsed_sections": [],
      "authorship_tag": "ABX9TyNt8VDqRBRnGKQc8BGKCDXI",
      "include_colab_link": true
    },
    "kernelspec": {
      "name": "python3",
      "display_name": "Python 3"
    },
    "language_info": {
      "name": "python"
    }
  },
  "cells": [
    {
      "cell_type": "markdown",
      "metadata": {
        "id": "view-in-github",
        "colab_type": "text"
      },
      "source": [
        "<a href=\"https://colab.research.google.com/github/phamviet000/pythonangcaoplus/blob/main/Lab2/BT_chuong_8.ipynb\" target=\"_parent\"><img src=\"https://colab.research.google.com/assets/colab-badge.svg\" alt=\"Open In Colab\"/></a>"
      ]
    },
    {
      "cell_type": "markdown",
      "metadata": {
        "id": "psMzpsv6TwaV"
      },
      "source": [
        "Chuong 8\n",
        "cau *1,2"
      ]
    },
    {
      "cell_type": "code",
      "metadata": {
        "colab": {
          "base_uri": "https://localhost:8080/"
        },
        "id": "SE-0M-F3TnQI",
        "outputId": "17871c21-dcbd-465c-dd5d-5cccf6a9ab10"
      },
      "source": [
        "kingdoms =  ['Bacteria', 'Protozoa', 'Chromista','Plantae', 'Fungi','Animalia']\n",
        "print(kingdoms[0])\n",
        "print(kingdoms[5])\n",
        "\n",
        "print(kingdoms[-6])\n",
        "print(kingdoms[-1])\n",
        "\n",
        "print(kingdoms[0:3])\n",
        "print(kingdoms[-6:-3])\n",
        "\n",
        "print(kingdoms[2:5])\n",
        "print(kingdoms[-4:-1])\n",
        "\n",
        "print(kingdoms[4:6])\n",
        "print(kingdoms[-2:])\n",
        "\n",
        "print(kingdoms[1:0])\n",
        "print(kingdoms[-1:-2])\n"
      ],
      "execution_count": null,
      "outputs": [
        {
          "output_type": "stream",
          "name": "stdout",
          "text": [
            "Bacteria\n",
            "Animalia\n",
            "Bacteria\n",
            "Animalia\n",
            "['Bacteria', 'Protozoa', 'Chromista']\n",
            "['Bacteria', 'Protozoa', 'Chromista']\n",
            "['Chromista', 'Plantae', 'Fungi']\n",
            "['Chromista', 'Plantae', 'Fungi']\n",
            "['Fungi', 'Animalia']\n",
            "['Fungi', 'Animalia']\n",
            "[]\n",
            "[]\n"
          ]
        }
      ]
    },
    {
      "cell_type": "markdown",
      "metadata": {
        "id": "ShDPYg_CVyH8"
      },
      "source": [
        "Cau3:"
      ]
    },
    {
      "cell_type": "code",
      "metadata": {
        "colab": {
          "base_uri": "https://localhost:8080/"
        },
        "id": "GugjvAW4V1ZT",
        "outputId": "7402435f-52b1-450a-fab6-d40a604f4c89"
      },
      "source": [
        "appointments  = ['9:00', '10:30', '14:00', '15:00', '15:30']\n",
        "appointments.append('16:30')\n",
        "print(appointments)"
      ],
      "execution_count": null,
      "outputs": [
        {
          "output_type": "stream",
          "name": "stdout",
          "text": [
            "['9:00', '10:30', '14:00', '15:00', '15:30', '16:30']\n"
          ]
        }
      ]
    },
    {
      "cell_type": "code",
      "metadata": {
        "colab": {
          "base_uri": "https://localhost:8080/"
        },
        "id": "a1PVMtgKW8ik",
        "outputId": "ac466cfd-9dcb-432c-ac94-8701a1deaa34"
      },
      "source": [
        "appointments  = ['9:00', '10:30', '14:00', '15:00', '15:30']\n",
        "appointments +=  ['16:30']\n",
        "print(appointments)\n"
      ],
      "execution_count": null,
      "outputs": [
        {
          "output_type": "stream",
          "name": "stdout",
          "text": [
            "['9:00', '10:30', '14:00', '15:00', '15:30', '16:30']\n"
          ]
        }
      ]
    },
    {
      "cell_type": "markdown",
      "metadata": {
        "id": "5RDZBv-IXbyb"
      },
      "source": [
        "Cách tiếp cận trong (a) sửa đổi danh sách. Một trong (b) tạo ra một\n",
        "danh sách. "
      ]
    },
    {
      "cell_type": "markdown",
      "metadata": {
        "id": "MIIkTfBeXbmT"
      },
      "source": [
        "Câu 4"
      ]
    },
    {
      "cell_type": "code",
      "metadata": {
        "colab": {
          "base_uri": "https://localhost:8080/"
        },
        "id": "PtkMic_WXanT",
        "outputId": "a209e866-f9d3-4d04-b4a3-70423a29f36f"
      },
      "source": [
        "ids = [4353, 2314, 2956, 3382, 9362, 3900]\n",
        "ids.remove(3382)\n",
        "print(ids)\n",
        "index1=ids.index(9362)\n",
        "print(index1)\n",
        "ids.insert(4,4499)\n",
        "print(ids)\n",
        "list2 = [5566,1830]\n",
        "ids.extend(list2)\n",
        "print(ids)\n",
        "ids.reverse() # dao nguoc\n",
        "print(ids)\n",
        "ids.sort() # sap xep\n",
        "print(ids)"
      ],
      "execution_count": null,
      "outputs": [
        {
          "output_type": "stream",
          "name": "stdout",
          "text": [
            "[4353, 2314, 2956, 9362, 3900]\n",
            "3\n",
            "[4353, 2314, 2956, 9362, 4499, 3900]\n",
            "[4353, 2314, 2956, 9362, 4499, 3900, 5566, 1830]\n",
            "[1830, 5566, 3900, 4499, 9362, 2956, 2314, 4353]\n",
            "[1830, 2314, 2956, 3900, 4353, 4499, 5566, 9362]\n"
          ]
        }
      ]
    },
    {
      "cell_type": "code",
      "metadata": {
        "id": "Jk0qHS-gXae8"
      },
      "source": [
        ""
      ],
      "execution_count": null,
      "outputs": []
    },
    {
      "cell_type": "markdown",
      "metadata": {
        "id": "pYkFBQrOew8I"
      },
      "source": [
        "Cau5:"
      ]
    },
    {
      "cell_type": "code",
      "metadata": {
        "colab": {
          "base_uri": "https://localhost:8080/"
        },
        "id": "fmebd4s2eyFg",
        "outputId": "f72022d8-a87f-4b13-c8a1-9f4ff5e707e0"
      },
      "source": [
        "alkaline_earth_metals = [4, 12, 20, 38, 56, 88]\n",
        "print('nguyen tu radium: ',alkaline_earth_metals[5])\n",
        "print('list co {} phan tu'.format(len(alkaline_earth_metals)))\n",
        "print('nguyen tu cao nha la: ',max(alkaline_earth_metals))"
      ],
      "execution_count": null,
      "outputs": [
        {
          "output_type": "stream",
          "name": "stdout",
          "text": [
            "nguyen tu radium:  88\n",
            "list co 6 phan tu\n",
            "nguyen tu cao nha la:  88\n"
          ]
        }
      ]
    },
    {
      "cell_type": "markdown",
      "metadata": {
        "id": "ID4re9jIgsqw"
      },
      "source": [
        "Cau6 :\n"
      ]
    },
    {
      "cell_type": "code",
      "metadata": {
        "colab": {
          "base_uri": "https://localhost:8080/"
        },
        "id": "KCAZRN9cgt-P",
        "outputId": "1f6940cc-68fc-46ba-8388-d06245ea7d71"
      },
      "source": [
        "temps = [25.2,16.8, 31.4, 23.9, 28, 22.5,19.6]\n",
        "temps.sort()\n",
        "print(temps)\n",
        "temps_hot= []\n",
        "temps_cool = []\n",
        "for i in temps:\n",
        "  if (i> 20):\n",
        "    temps_hot.append(i)\n",
        "  if (i<20):\n",
        "    temps_cool.append(i)\n",
        "\n",
        "print(temps_hot)\n",
        "print(temps_cool)\n",
        "temps_in_celsius = []\n",
        "temps_in_celsius.extend(temps_cool)\n",
        "temps_in_celsius.extend(temps_hot)\n",
        "print(temps_in_celsius)"
      ],
      "execution_count": null,
      "outputs": [
        {
          "output_type": "stream",
          "name": "stdout",
          "text": [
            "[16.8, 19.6, 22.5, 23.9, 25.2, 28, 31.4]\n",
            "[22.5, 23.9, 25.2, 28, 31.4]\n",
            "[16.8, 19.6]\n",
            "[16.8, 19.6, 22.5, 23.9, 25.2, 28, 31.4]\n"
          ]
        }
      ]
    },
    {
      "cell_type": "markdown",
      "metadata": {
        "id": "W73YkUhVH0Ea"
      },
      "source": [
        "Cau 7:\n"
      ]
    },
    {
      "cell_type": "markdown",
      "metadata": {
        "id": "RP6iYwm1H0BS"
      },
      "source": [
        ""
      ]
    },
    {
      "cell_type": "code",
      "metadata": {
        "id": "d4cgSPElH2zD"
      },
      "source": [
        "def same_first_last(listsame):\n",
        "  if(len(listsame) > 1):\n",
        "    if(listsame[0]  == listsame[-1]):\n",
        "      return True\n",
        "    else :\n",
        "      return False\n",
        "  else :\n",
        "    return print(\"Nhập list có ít nhất 2 phần tử\")"
      ],
      "execution_count": null,
      "outputs": []
    },
    {
      "cell_type": "code",
      "metadata": {
        "colab": {
          "base_uri": "https://localhost:8080/"
        },
        "id": "UkW7G1CfItp6",
        "outputId": "1a8c293f-1df2-40a8-c4bd-9465de401381"
      },
      "source": [
        "same_first_last([3,4,5,6,3])"
      ],
      "execution_count": null,
      "outputs": [
        {
          "output_type": "execute_result",
          "data": {
            "text/plain": [
              "True"
            ]
          },
          "metadata": {},
          "execution_count": 43
        }
      ]
    },
    {
      "cell_type": "code",
      "metadata": {
        "colab": {
          "base_uri": "https://localhost:8080/"
        },
        "id": "oq3WNeXOI7kZ",
        "outputId": "76190abf-81a3-497b-f47b-747457959ff6"
      },
      "source": [
        "same_first_last([3,4,5,6])"
      ],
      "execution_count": null,
      "outputs": [
        {
          "output_type": "execute_result",
          "data": {
            "text/plain": [
              "False"
            ]
          },
          "metadata": {},
          "execution_count": 44
        }
      ]
    },
    {
      "cell_type": "code",
      "metadata": {
        "colab": {
          "base_uri": "https://localhost:8080/"
        },
        "id": "boseDalrI7ci",
        "outputId": "eb031a24-0125-4c22-de9a-643c459a9c59"
      },
      "source": [
        "same_first_last([3])"
      ],
      "execution_count": null,
      "outputs": [
        {
          "output_type": "stream",
          "name": "stdout",
          "text": [
            "Nhập list có ít nhất 2 phần tử\n"
          ]
        }
      ]
    },
    {
      "cell_type": "markdown",
      "metadata": {
        "id": "IILanlE1I_yJ"
      },
      "source": [
        "Cau 8:"
      ]
    },
    {
      "cell_type": "code",
      "metadata": {
        "id": "39ySNn6-JCh9"
      },
      "source": [
        "def is_longer(list1,list2):\n",
        "  return len(list1) > len(list2)\n"
      ],
      "execution_count": null,
      "outputs": []
    },
    {
      "cell_type": "code",
      "metadata": {
        "colab": {
          "base_uri": "https://localhost:8080/"
        },
        "id": "Oi6qCcbOL_qs",
        "outputId": "fa5bcd21-d2aa-4719-d5c4-9e55e67c5249"
      },
      "source": [
        "is_longer([1,5,9],[1,2,8,6])"
      ],
      "execution_count": null,
      "outputs": [
        {
          "output_type": "execute_result",
          "data": {
            "text/plain": [
              "False"
            ]
          },
          "metadata": {},
          "execution_count": 48
        }
      ]
    },
    {
      "cell_type": "markdown",
      "metadata": {
        "id": "Xcg1_sC3M2CE"
      },
      "source": [
        "Cau 9:\n"
      ]
    },
    {
      "cell_type": "code",
      "metadata": {
        "colab": {
          "base_uri": "https://localhost:8080/"
        },
        "id": "R9cpearHM3Zq",
        "outputId": "ac3b2b14-20d1-42d5-9387-88700e27f398"
      },
      "source": [
        "values = [0, 1, 2]\n",
        "values[1] = values\n",
        "\n",
        "def memory(listmemory):\n",
        "  listmemory1 = []\n",
        "  listmemory2 = []\n",
        "  listmemory1.append(listmemory[0:1])\n",
        "  listmemory2.append(listmemory[1:])\n",
        "  newlist = []\n",
        "  newlist.extend(listmemory1)\n",
        "  newlist.extend(listmemory)\n",
        "  newlist.extend(listmemory2)\n",
        "  return newlist\n",
        "memory([0, 1, 2])"
      ],
      "execution_count": null,
      "outputs": [
        {
          "output_type": "execute_result",
          "data": {
            "text/plain": [
              "[[0], 0, 1, 2, [1, 2]]"
            ]
          },
          "metadata": {},
          "execution_count": 69
        }
      ]
    },
    {
      "cell_type": "markdown",
      "metadata": {
        "id": "oFL6ZZ-WQt0k"
      },
      "source": [
        "Cau 10,11:"
      ]
    },
    {
      "cell_type": "code",
      "metadata": {
        "colab": {
          "base_uri": "https://localhost:8080/"
        },
        "id": "Vq-IOiP2Qvmq",
        "outputId": "baa7c338-29a8-4ab7-ed88-fe3560a9bee5"
      },
      "source": [
        "units = [['km', 'miles', 'league'], ['kg', 'pound', 'stone']]\n",
        "print(units[0])\n",
        "print(units[-2])\n",
        "print(units[1])\n",
        "print(units[-1])\n",
        "for i in units:\n",
        "  for j in i:\n",
        "    if (j == 'kg'):\n",
        "      print(j)\n",
        "    if (j == 'km'):\n",
        "      print(j)\n",
        "print(units[0][1:])\n",
        "print(units[-2][-2:])\n",
        "print(units[1][0:2])\n",
        "print(units[-1][-3:-1])"
      ],
      "execution_count": null,
      "outputs": [
        {
          "output_type": "stream",
          "name": "stdout",
          "text": [
            "['km', 'miles', 'league']\n",
            "['km', 'miles', 'league']\n",
            "['kg', 'pound', 'stone']\n",
            "['kg', 'pound', 'stone']\n",
            "km\n",
            "kg\n",
            "['miles', 'league']\n",
            "['miles', 'league']\n",
            "['kg', 'pound']\n",
            "['kg', 'pound']\n"
          ]
        }
      ]
    }
  ]
}