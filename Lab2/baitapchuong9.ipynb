{
  "nbformat": 4,
  "nbformat_minor": 0,
  "metadata": {
    "colab": {
      "name": "baitapchuong9.ipynb",
      "provenance": [],
      "collapsed_sections": [],
      "authorship_tag": "ABX9TyNhE44bAwMgSQwgIq7+iLWa",
      "include_colab_link": true
    },
    "kernelspec": {
      "name": "python3",
      "display_name": "Python 3"
    },
    "language_info": {
      "name": "python"
    }
  },
  "cells": [
    {
      "cell_type": "markdown",
      "metadata": {
        "id": "view-in-github",
        "colab_type": "text"
      },
      "source": [
        "<a href=\"https://colab.research.google.com/github/phamviet000/pythonangcaoplus/blob/main/Lab2/baitapchuong9.ipynb\" target=\"_parent\"><img src=\"https://colab.research.google.com/assets/colab-badge.svg\" alt=\"Open In Colab\"/></a>"
      ]
    },
    {
      "cell_type": "markdown",
      "metadata": {
        "id": "TPvYsxERWFVk"
      },
      "source": [
        "Cau1:"
      ]
    },
    {
      "cell_type": "code",
      "metadata": {
        "colab": {
          "base_uri": "https://localhost:8080/"
        },
        "id": "Qx0l2mMkVfXI",
        "outputId": "36595f3e-1467-4bb9-935e-c016eb14fc6c"
      },
      "source": [
        "celegans_phenotypes = ['Emb','Him', 'Unc', 'Lon', 'Dpy', 'Sma']\n",
        "for i in celegans_phenotypes:\n",
        "  print(i)"
      ],
      "execution_count": 1,
      "outputs": [
        {
          "output_type": "stream",
          "name": "stdout",
          "text": [
            "Emb\n",
            "Him\n",
            "Unc\n",
            "Lon\n",
            "Dpy\n",
            "Sma\n"
          ]
        }
      ]
    },
    {
      "cell_type": "markdown",
      "metadata": {
        "id": "knq_vMDeXDuB"
      },
      "source": [
        "Cau2:"
      ]
    },
    {
      "cell_type": "code",
      "metadata": {
        "colab": {
          "base_uri": "https://localhost:8080/"
        },
        "id": "kzqGDGB0XEzr",
        "outputId": "cc01f157-fd49-4440-a36b-e49634d6066e"
      },
      "source": [
        "half_lives =   [87.74, 24110.0,6537.0, 14.4, 376000.0]\n",
        "for value in half_lives:\n",
        " print(value, end=' ')\n"
      ],
      "execution_count": 2,
      "outputs": [
        {
          "output_type": "stream",
          "name": "stdout",
          "text": [
            "87.74 24110.0 6537.0 14.4 376000.0 "
          ]
        }
      ]
    },
    {
      "cell_type": "markdown",
      "metadata": {
        "id": "dZGPcjP8XcEj"
      },
      "source": [
        "Cau3: "
      ]
    },
    {
      "cell_type": "code",
      "metadata": {
        "colab": {
          "base_uri": "https://localhost:8080/"
        },
        "id": "1KVQAHtGXfQj",
        "outputId": "b6761276-23df-4008-8114-25727fb0547b"
      },
      "source": [
        "whales =  [5, 4, 7, 3, 2, 3, 2, 6, 4, 2, 1, 7, 1, 3]\n",
        "more_whales = []\n",
        "for count in whales:\n",
        " more_whales.append(count + 1)\n",
        "print(more_whales)"
      ],
      "execution_count": 3,
      "outputs": [
        {
          "output_type": "stream",
          "name": "stdout",
          "text": [
            "[6, 5, 8, 4, 3, 4, 3, 7, 5, 3, 2, 8, 2, 4]\n"
          ]
        }
      ]
    },
    {
      "cell_type": "markdown",
      "metadata": {
        "id": "MBI0y6zLZ1c1"
      },
      "source": [
        "Cau4 :"
      ]
    },
    {
      "cell_type": "code",
      "metadata": {
        "colab": {
          "base_uri": "https://localhost:8080/"
        },
        "id": "icnawDo2Z2cy",
        "outputId": "542b8c0a-57c5-4488-c666-c5d1beac21d5"
      },
      "source": [
        "alkaline_earth_metals=[['beryllium',[4,9.012]],['magnesium',[12,24.305]],['calcium',[20,40.078]],['strontium',[38,87.62]],['barium',[56,137.327]],['radium',[88,226]]]\n",
        "for i in alkaline_earth_metals:\n",
        "  for j in i:\n",
        "    print(j, end=\"  \")\n",
        "  print('\\n')"
      ],
      "execution_count": 9,
      "outputs": [
        {
          "output_type": "stream",
          "name": "stdout",
          "text": [
            "beryllium  [4, 9.012]  \n",
            "\n",
            "magnesium  [12, 24.305]  \n",
            "\n",
            "calcium  [20, 40.078]  \n",
            "\n",
            "strontium  [38, 87.62]  \n",
            "\n",
            "barium  [56, 137.327]  \n",
            "\n",
            "radium  [88, 226]  \n",
            "\n"
          ]
        }
      ]
    },
    {
      "cell_type": "code",
      "metadata": {
        "colab": {
          "base_uri": "https://localhost:8080/"
        },
        "id": "QA_T1mT7blEq",
        "outputId": "c2110b9c-29e3-4cdc-f399-bae05c47a9f2"
      },
      "source": [
        "alkaline_earth_metals=[['beryllium',[4,9.012]],['magnesium',[12,24.305]],['calcium',[20,40.078]],['strontium',[38,87.62]],['barium',[56,137.327]],['radium',[88,226]]]\n",
        "number_and_weigh = []\n",
        "for i in alkaline_earth_metals:\n",
        "  for j in range(len(i)):\n",
        "    if (j == 0):\n",
        "      number_and_weigh.append(i[0])\n",
        "    if (j==1):\n",
        "      number_and_weigh.append(i[j][0])\n",
        "      number_and_weigh.append(i[j][1])\n",
        "print(number_and_weigh)"
      ],
      "execution_count": 18,
      "outputs": [
        {
          "output_type": "stream",
          "name": "stdout",
          "text": [
            "['beryllium', 4, 9.012, 'magnesium', 12, 24.305, 'calcium', 20, 40.078, 'strontium', 38, 87.62, 'barium', 56, 137.327, 'radium', 88, 226]\n"
          ]
        }
      ]
    },
    {
      "cell_type": "markdown",
      "metadata": {
        "id": "DQCzAzAUbjD1"
      },
      "source": [
        "Cau5 :"
      ]
    },
    {
      "cell_type": "code",
      "metadata": {
        "id": "ZaGsa8Ftijoz"
      },
      "source": [
        "def mystery_function(values): # tạo hàm tên mystery nhập vào đối số là 1 list\n",
        "  result = []  #tạo 1 list rỗng\n",
        "  for sublist in values:    #tạo vòng lập vs biến sublist chạy trong list\n",
        "    result.append([sublist[0]])   # thêm vào giá trị có index = 0 vào result\n",
        "    for i in sublist[1:]:    # tạo vòng lặp với biến i chạy trong các phần tử còn lại của list sublist\n",
        "      result[-1].insert(0, i)            #Thêm vào cuối list con cuối của list result vị trí thứ 0 với giá trị i\n",
        "  return result  # Trả về list result"
      ],
      "execution_count": 19,
      "outputs": []
    },
    {
      "cell_type": "markdown",
      "metadata": {
        "id": "3inUwkXNks2r"
      },
      "source": [
        "Cau 6 :\n"
      ]
    },
    {
      "cell_type": "code",
      "metadata": {
        "colab": {
          "base_uri": "https://localhost:8080/"
        },
        "id": "Ft6jVCOBkvpD",
        "outputId": "3344cc10-b138-4603-e8e5-f28624510819"
      },
      "source": [
        "newlist = []\n",
        "while True:\n",
        "  key = input('nhập vào một từ bất kỳ để tạo list, nếu nhập Quit sẽ dừng lại q')\n",
        "  if (key == \"Quit\") or (key == \"QUIT\"):\n",
        "    break\n",
        "  else:\n",
        "    newlist.append(key)\n",
        "print(newlist)"
      ],
      "execution_count": 22,
      "outputs": [
        {
          "output_type": "stream",
          "name": "stdout",
          "text": [
            "nhập vào một từ bất kỳ để tạo list, nếu nhập Quit sẽ dừng lại Viet\n",
            "nhập vào một từ bất kỳ để tạo list, nếu nhập Quit sẽ dừng lại dep\n",
            "nhập vào một từ bất kỳ để tạo list, nếu nhập Quit sẽ dừng lại trai\n",
            "nhập vào một từ bất kỳ để tạo list, nếu nhập Quit sẽ dừng lại qua\n",
            "nhập vào một từ bất kỳ để tạo list, nếu nhập Quit sẽ dừng lại di\n",
            "nhập vào một từ bất kỳ để tạo list, nếu nhập Quit sẽ dừng lại QUIT\n",
            "['Viet', 'dep', 'trai', 'qua', 'di']\n"
          ]
        }
      ]
    },
    {
      "cell_type": "markdown",
      "metadata": {
        "id": "FfYmAh7eoZxr"
      },
      "source": [
        "Cau7: "
      ]
    },
    {
      "cell_type": "code",
      "metadata": {
        "colab": {
          "base_uri": "https://localhost:8080/"
        },
        "id": "Z8b6vNhlobCL",
        "outputId": "59d9b9c4-5833-4e87-f2df-0cf2fc22aebc"
      },
      "source": [
        "country_popumes = [['China',1295],['DPR Korea',23],['Hong Kong',7],['Mongolia',3],['Republic of Korea',47],['Taiwan',21]]\n",
        "total = 0\n",
        "for i in country_popumes:\n",
        "  total += i[1]\n",
        "print('Tổng dân số của các nước Đông á là: ',total)"
      ],
      "execution_count": 24,
      "outputs": [
        {
          "output_type": "stream",
          "name": "stdout",
          "text": [
            "Tổng dân số của các nước Đông á là:  1396\n"
          ]
        }
      ]
    },
    {
      "cell_type": "markdown",
      "metadata": {
        "id": "MWNMV52orsi7"
      },
      "source": [
        "Cau 8:"
      ]
    },
    {
      "cell_type": "code",
      "metadata": {
        "colab": {
          "base_uri": "https://localhost:8080/"
        },
        "id": "7a5vFd-ervCj",
        "outputId": "6777992b-fcd6-4755-b798-94d309c1c628"
      },
      "source": [
        "w_rat1 = [7,2,3,6,5,9,4,6,1,9]\n",
        "w_rat2 = [6,4,6,1,6,8,3,4,5,1]\n",
        "for i in range(10):\n",
        "  if (w_rat1[i] > w_rat2[i]):\n",
        "    print(\"Rat 1 weighed more than rat 2 on day \",i+1)\n",
        "  else:\n",
        "    print(\"Rat 1 weighed less than rat 2 on day \",i+1)\n"
      ],
      "execution_count": 27,
      "outputs": [
        {
          "output_type": "stream",
          "name": "stdout",
          "text": [
            "Rat 1 weighed more than rat 2 on day  1\n",
            "Rat 1 weighed less than rat 2 on day  2\n",
            "Rat 1 weighed less than rat 2 on day  3\n",
            "Rat 1 weighed more than rat 2 on day  4\n",
            "Rat 1 weighed less than rat 2 on day  5\n",
            "Rat 1 weighed more than rat 2 on day  6\n",
            "Rat 1 weighed more than rat 2 on day  7\n",
            "Rat 1 weighed more than rat 2 on day  8\n",
            "Rat 1 weighed less than rat 2 on day  9\n",
            "Rat 1 weighed more than rat 2 on day  10\n"
          ]
        }
      ]
    },
    {
      "cell_type": "code",
      "metadata": {
        "colab": {
          "base_uri": "https://localhost:8080/"
        },
        "id": "cXhF0wWbrv1z",
        "outputId": "698dd9ae-4a31-4f12-e621-f7fbbd729744"
      },
      "source": [
        "if (w_rat1[0] > w_rat2[0]) and (w_rat1[-1] > w_rat2[-1]):\n",
        "  print(\"Rat 1 remained heavier than Rat 2\")\n",
        "else:\n",
        "  print(\"Rat 2 became heavier than Rat 1\")"
      ],
      "execution_count": 32,
      "outputs": [
        {
          "output_type": "stream",
          "name": "stdout",
          "text": [
            "Rat 1 remained heavier than Rat 2\n"
          ]
        }
      ]
    },
    {
      "cell_type": "code",
      "metadata": {
        "colab": {
          "base_uri": "https://localhost:8080/"
        },
        "id": "R-VrRtS0ui0k",
        "outputId": "7ff2d51a-e21d-4369-8df5-8d04ec5fdd62"
      },
      "source": [
        "if  (w_rat1[0] > w_rat2[0]):\n",
        "  if (w_rat1[-1] > w_rat2[-1]):\n",
        "    print(\"Rat 1 remained heavier than Rat 2\")\n",
        "  else : \n",
        "    print(\"Rat 2 became heavier than Rat 1\")\n",
        "else:\n",
        "  print(\"Eroor\")"
      ],
      "execution_count": 34,
      "outputs": [
        {
          "output_type": "stream",
          "name": "stdout",
          "text": [
            "Rat 1 remained heavier than Rat 2\n"
          ]
        }
      ]
    },
    {
      "cell_type": "markdown",
      "metadata": {
        "id": "HihNPyrTvXsr"
      },
      "source": [
        "Cau 9 :\n"
      ]
    },
    {
      "cell_type": "code",
      "metadata": {
        "id": "hqxYuKyJvZhT",
        "outputId": "1d8792af-f5a7-4900-f574-429d64aa588c",
        "colab": {
          "base_uri": "https://localhost:8080/"
        }
      },
      "source": [
        "for i in range(33,50):\n",
        "  print(i)"
      ],
      "execution_count": 35,
      "outputs": [
        {
          "output_type": "stream",
          "name": "stdout",
          "text": [
            "33\n",
            "34\n",
            "35\n",
            "36\n",
            "37\n",
            "38\n",
            "39\n",
            "40\n",
            "41\n",
            "42\n",
            "43\n",
            "44\n",
            "45\n",
            "46\n",
            "47\n",
            "48\n",
            "49\n"
          ]
        }
      ]
    },
    {
      "cell_type": "markdown",
      "metadata": {
        "id": "YRK-YgmJveb2"
      },
      "source": [
        "Cau 10 :\n"
      ]
    },
    {
      "cell_type": "code",
      "metadata": {
        "id": "1JH1k5vVvfhU",
        "outputId": "cec8d807-e2c7-460b-b04c-06bba3bb5be8",
        "colab": {
          "base_uri": "https://localhost:8080/"
        }
      },
      "source": [
        "for i in range(-10,0):\n",
        "  print(abs(i), end = \" \")"
      ],
      "execution_count": 40,
      "outputs": [
        {
          "output_type": "stream",
          "name": "stdout",
          "text": [
            "10 9 8 7 6 5 4 3 2 1 "
          ]
        }
      ]
    },
    {
      "cell_type": "markdown",
      "metadata": {
        "id": "LSvalSP2zXGW"
      },
      "source": [
        "Cau 11:\n"
      ]
    },
    {
      "cell_type": "code",
      "metadata": {
        "id": "A9vzr3JvzYGb",
        "outputId": "40598ff5-f058-4cd6-d270-80d502ab441a",
        "colab": {
          "base_uri": "https://localhost:8080/"
        }
      },
      "source": [
        "count = 0\n",
        "total = 0\n",
        "for i in range(2,22):\n",
        "  count += 1\n",
        "  total += i\n",
        "trungbinh =  total / count\n",
        "print(trungbinh)"
      ],
      "execution_count": 41,
      "outputs": [
        {
          "output_type": "stream",
          "name": "stdout",
          "text": [
            "11.5\n"
          ]
        }
      ]
    },
    {
      "cell_type": "markdown",
      "metadata": {
        "id": "dIi3ZBQ7080d"
      },
      "source": [
        "Câu 12:"
      ]
    },
    {
      "cell_type": "code",
      "metadata": {
        "id": "1-LkH-sF0-Ys",
        "outputId": "18ccd290-f6b3-4b6c-8ab4-dc9fc92b3858",
        "colab": {
          "base_uri": "https://localhost:8080/"
        }
      },
      "source": [
        "def remove_neg(num_list):\n",
        "  newlist = []\n",
        "  for item in num_list:\n",
        "    if (item >= 0) :\n",
        "      newlist.append(item)\n",
        "  return newlist\n",
        "remove_neg([4,9,-9,-4,5,1,-4,3,8,-8])"
      ],
      "execution_count": 44,
      "outputs": [
        {
          "output_type": "execute_result",
          "data": {
            "text/plain": [
              "[4, 9, 5, 1, 3, 8]"
            ]
          },
          "metadata": {},
          "execution_count": 44
        }
      ]
    },
    {
      "cell_type": "markdown",
      "metadata": {
        "id": "cYBqrMPpDeK9"
      },
      "source": [
        "CAu 13:"
      ]
    },
    {
      "cell_type": "code",
      "metadata": {
        "id": "mJ4gTzoDDfNz",
        "outputId": "e671121f-3b2e-4da0-e5bf-10de50bd7518",
        "colab": {
          "base_uri": "https://localhost:8080/"
        }
      },
      "source": [
        "for i in range(1,8):\n",
        "  print('T'*i)"
      ],
      "execution_count": 47,
      "outputs": [
        {
          "output_type": "stream",
          "name": "stdout",
          "text": [
            "T\n",
            "TT\n",
            "TTT\n",
            "TTTT\n",
            "TTTTT\n",
            "TTTTTT\n",
            "TTTTTTT\n"
          ]
        }
      ]
    },
    {
      "cell_type": "markdown",
      "metadata": {
        "id": "l-FJeNxsD0qs"
      },
      "source": [
        "Cau 14:"
      ]
    },
    {
      "cell_type": "code",
      "metadata": {
        "id": "nH6lpv2pD2Sb"
      },
      "source": [
        ""
      ],
      "execution_count": null,
      "outputs": []
    }
  ]
}